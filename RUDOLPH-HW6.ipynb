{
 "cells": [
  {
   "cell_type": "markdown",
   "metadata": {},
   "source": [
    "###### $\\\\ \\huge\\textbf{qwer2 Joshua Rudolph - ME581 HW6 [PYTHON]}\\normalsize$"
   ]
  },
  {
   "cell_type": "markdown",
   "metadata": {},
   "source": [
    "# Introduction"
   ]
  },
  {
   "cell_type": "markdown",
   "metadata": {},
   "source": [
    "Three interpolating polynomial algorithms are defined and applied throughout the assignment, namely the Lagrange, Neville's, and Newton's algorithms. Each algorithms will be presented before the section is which it is used. Additionally, several generalized utility functions are used throughout the assigment to create plots and tables, to format values, and to create basic functions. These will be presented in the [appendix](#appendix:-utility-functions) at the end of the assignment as they are rather long and complex. Several Python packages will also be used throughout the assignment, and are imported below:"
   ]
  },
  {
   "cell_type": "code",
   "execution_count": 1,
   "metadata": {
    "collapsed": true
   },
   "outputs": [],
   "source": [
    "import matplotlib.pyplot as plt \n",
    "import matplotlib as mplib\n",
    "import numpy as np\n",
    "import math"
   ]
  },
  {
   "cell_type": "markdown",
   "metadata": {},
   "source": [
    "# The Lagrange Interpolation Algorithm"
   ]
  },
  {
   "cell_type": "markdown",
   "metadata": {},
   "source": [
    "To obtain the obtain the interpolating polynomial using the Lagrange method, an algorithm is defined as presented in section 5.1 of the textbook. The algorithm is divided into two functions as discussed below.\n",
    "\n",
    "The first function finds the $j^{th}$ Lagrange polynomial, $L_{n,j}(x)$, given the interpolating abscissa $j$ and a list of ${n+1}$ x values at which the function is sampled (xlist). A function pointer is returned that can be used to calculate the value of the polynomial at any value of x or for any numpy array of x values. This allows the polynomial to be easily plotted using the multiPlot function defined in the appendix.\n",
    "\n",
    "The second function then uses the $L_{n,j}(x)$ function to obtain the Lagrange form of the interpolating polynomial. This is done by calculating the Lagrange polynomial for each abscissa, and then taking the sum of each multiplied by the sampled function value at the corresponding x value. A function pointer is returned that allows the interpolation polynomial to be evaluated for any x value or numpy array of x values."
   ]
  },
  {
   "cell_type": "code",
   "execution_count": 2,
   "metadata": {
    "collapsed": true
   },
   "outputs": [],
   "source": [
    "def Lnj(j,xlist):  \n",
    "    \n",
    "    xj = xlist[j]\n",
    "    \n",
    "    def Lnj_(x):        \n",
    "        if type(x) == np.ndarray:\n",
    "            y   = np.ones_like(x)\n",
    "        else: y = 1    \n",
    "                \n",
    "        for i,xi in enumerate(xlist):     \n",
    "            if (i != j):\n",
    "                y *= (x - xi)/(xj - xi)\n",
    "        return y   \n",
    "    \n",
    "    return Lnj_"
   ]
  },
  {
   "cell_type": "code",
   "execution_count": 3,
   "metadata": {
    "collapsed": true
   },
   "outputs": [],
   "source": [
    "def Pn(xlist,flist):\n",
    "    def Pn_(x):\n",
    "        if type(x) == np.ndarray:\n",
    "            y   = np.zeros_like(x)\n",
    "        else: y = 0\n",
    "             \n",
    "        for i,fi in enumerate(flist):\n",
    "            Lni = Lnj(i,xlist)\n",
    "            y += Lni(x)*fi\n",
    "        return y    \n",
    "    return Pn_"
   ]
  },
  {
   "cell_type": "markdown",
   "metadata": {},
   "source": [
    "## Problem 1"
   ]
  },
  {
   "cell_type": "markdown",
   "metadata": {},
   "source": [
    "### Problem Statement\n",
    "\n",
    "Let $x_0=−3$, $x_1=0$, $x_2=e$, and $x_3=\\pi$.\n",
    "\n",
    "(a) Determine formulas for the Lagrange polynomials $𝐿_{3,0}(x)$,$𝐿_{3,1}(x)$, $𝐿_{3,2}(x)$, $𝐿_{3,3}(x)$ associated with the given interpolating points.\n",
    "\n",
    "(b) $𝐿_{3,0}(x)$,$𝐿_{3,1}(x)$, $𝐿_{3,2}(x)$, and $𝐿_{3,3}(x)$ on the same set of axes over the range $[−3,\\pi]$."
   ]
  },
  {
   "cell_type": "markdown",
   "metadata": {},
   "source": [
    "# Appendix: Utility Functions"
   ]
  },
  {
   "cell_type": "markdown",
   "metadata": {},
   "source": [
    "Various utility functions are defined here for use throughout the assignment. The functions include a generalized plotting function 'multiPlot' for plotting both functions and point sets, several tools for formatting values and lists of values, and a function for making neat tables from sets of data. Note that these functions need to be executed before the rest of the worksheet, but are placed at the back save space."
   ]
  },
  {
   "cell_type": "code",
   "execution_count": 4,
   "metadata": {
    "collapsed": true
   },
   "outputs": [],
   "source": [
    "def padList(target,template,pad = ''):    \n",
    "    dL = len(template) - len(target)       \n",
    "    if dL == 0:\n",
    "        return target          \n",
    "    elif dL > 0:\n",
    "        if pad == 'matchLast':\n",
    "            if len(target) > 0:\n",
    "                pad = target[-1]\n",
    "            else: \n",
    "                pad = ''\n",
    "        return [*target, *[pad]*dL]        \n",
    "    elif dL < 0:\n",
    "        return target[0:len(template)]\n",
    "\n",
    "def multiPlot(fns=[],fnLabels=[],fnStyles=[],\\\n",
    "              \\\n",
    "              points=[],pointlabels=[],pointstyles=[],\\\n",
    "              \\\n",
    "              xArrays=[],yArrays=[],arrayLabels=[],arrayStyles=[],lineWidth=2,\\\n",
    "              vlines=[],vlineLabels=[],vlineStyles=[],\\\n",
    "              \\\n",
    "              resolution=100, xaxis=True, size=[12,8],\\\n",
    "              title='',title_size=26,title_y=0.94,\\\n",
    "              \\\n",
    "              xaxislabel='x',yaxislabel='f(x)',\\\n",
    "              xmin=None, xmax=None, ymin=None, ymax=None,\\\n",
    "              show=True,xscale='linear',yscale='linear',**otherArgs):\n",
    "\n",
    "    #plt.close()\n",
    "#    fig = plt.figure()\n",
    "#    ax = fig.add_subplot(111)\n",
    "    fig,ax = plt.subplots(1,1)\n",
    "    if len(fns)==len(points)==0 and (len(yArrays)==0 or len(xArrays)==0): return None\n",
    "    \n",
    "#    if ymin==None: \n",
    "#        ymin_needed, ymins = True, []\n",
    "#    if ymax==None: \n",
    "#        ymax_needed, ymaxs = True, []\n",
    "    xmaxs = xmins = ymaxs = ymins = []\n",
    "    \n",
    "    ############################### fns #################################    \n",
    "    if len(fns) > 0:        \n",
    "\n",
    "        if (xscale=='log' or xscale=='symlog'): \n",
    "            x_arr = 10**np.linspace(np.log10(xmin),np.log10(xmax),int(resolution + 1))\n",
    "        else: x_arr = np.linspace(xmin,xmax,int(resolution + 1))\n",
    "        np.seterr(divide='ignore',invalid='ignore')    \n",
    "        fnLabels = padList(fnLabels,fns)\n",
    "        fnStyles = padList(fnStyles,fns,pad='matchLast')\n",
    "        for i,f in enumerate(fns):\n",
    "            ax.plot(x_arr, f(x_arr), fnStyles[i], label=fnLabels[i])\n",
    "\n",
    "    ############################# x and y arrays ##############################\n",
    "    if len(xArrays) > 0 and len(yArrays) > 0:\n",
    "\n",
    "        xArrays = padList(xArrays,yArrays,pad='matchLast')\n",
    "        \n",
    "        if ymax == None or ymin == None:\n",
    "            if ymin == None: yminVal= max([np.min(array) for array in yArrays])\n",
    "            else: yminVal = ymin\n",
    "            if ymax == None: ymaxVal= max([np.max(array) for array in yArrays])\n",
    "            else: ymaxVal = ymax\n",
    "            \n",
    "            delta = ymaxVal - yminVal\n",
    "            ymin = yminVal - 0.1*delta\n",
    "            ymax = ymaxVal + 0.1*delta\n",
    "     \n",
    "        if type(arrayLabels) != list: arrayLabels = [arrayLabels]\n",
    "        else: arrayLabels = arrayLabels        \n",
    "        if type(arrayStyles) != list: arrayStyles = [arrayStyles]\n",
    "        else: arrayStyles = arrayStyles\n",
    "        \n",
    "        #x_arr = xArray\n",
    "        np.seterr(divide='ignore',invalid='ignore')        \n",
    "        for i,y_arr in enumerate(yArrays):            \n",
    "            x_arr = xArrays[i]\n",
    "            arrayLabels = padList(arrayLabels,yArrays)\n",
    "            arrayStyles = padList(arrayStyles,yArrays,pad='matchLast')\n",
    "            ax.plot(x_arr, y_arr, arrayStyles[i], label=arrayLabels[i],linewidth=lineWidth)\n",
    "   \n",
    "    ################################# points ##################################\n",
    "    if points != []:  \n",
    "        if type(points[0][0]) != list:\n",
    "            pointSets = [points]\n",
    "        else:\n",
    "            pointSets = points\n",
    "\n",
    "        for i,pointSet in enumerate(pointSets):\n",
    "            xpt_list, ypt_list = pointSet[0],pointSet[1] \n",
    "            if len(pointSets)==len(pointlabels)==len(pointstyles):\n",
    "                ax.plot(xpt_list,ypt_list,pointstyles[i],label=pointlabels[i])\n",
    "            elif len(pointSets)==len(pointlabels): \n",
    "                ax.plot(xpt_list, ypt_list,'ko',label=pointlabels[i])\n",
    "            elif len(pointSets)==len(pointstyles): \n",
    "                ax.plot(xpt_list, ypt_list, pointstyles[i]) \n",
    "            else: ax.plot(xpt_list,ypt_list,'ko')\n",
    "            \n",
    "    ################################## vlines #################################   \n",
    "    for vline in vlines:\n",
    "        xarr = np.array([vline,vline])\n",
    "        if ymin != None and ymax != None: yarr = np.array([ymin,ymax])\n",
    "        ax.plot(xarr, yarr, 'k--',linewidth=1) \n",
    "            \n",
    "    ################################ add axes #################################      \n",
    "            \n",
    "    props = mplib.font_manager.FontProperties(size=22)\n",
    "    handles, labels = ax.get_legend_handles_labels()\n",
    "    if len(labels) > 0: ax.legend(handles,labels,markerscale=1,prop=props)        \n",
    "    if xaxis:\n",
    "        x0_arr = np.array([xmin-1,xmax+1])\n",
    "        y0_arr = np.array([0,0])\n",
    "        ax.plot(x0_arr,y0_arr,'k--')\n",
    "       \n",
    "    ax.set_xlabel(xaxislabel,size=18,fontweight=\"bold\")\n",
    "    ax.set_ylabel(yaxislabel,size=18,fontweight=\"bold\")  \n",
    "    ax.tick_params(axis='both', which='major', labelsize=15)\n",
    "    ax.set(xlim=[xmin, xmax], ylim=[ymin, ymax],yscale=yscale)\n",
    "    if type(xscale) == list and len(xscale) > 1:\n",
    "        ax.set_xscale(value=xscale[0],**xscale[1])\n",
    "    else:\n",
    "        ax.set_xscale(value=xscale)\n",
    "    ax.set(**otherArgs)\n",
    "    fig.set_size_inches(size[0],size[1])\n",
    "    ax.set_title(title, fontsize=title_size,fontweight=\"bold\",y = title_y)\n",
    "\n",
    "    if not show:\n",
    "        plt.close()\n",
    "\n",
    "    return ax"
   ]
  },
  {
   "cell_type": "code",
   "execution_count": 5,
   "metadata": {
    "collapsed": true
   },
   "outputs": [],
   "source": [
    "def constant(val):\n",
    "    def constant_(x):\n",
    "        return np.full_like(x,val)\n",
    "    return constant_\n",
    "\n",
    "def zero():\n",
    "    return constant(0)\n",
    "\n",
    "def error(f1,f2):    \n",
    "    def error_(x):\n",
    "        if type(x) == np.ndarray:\n",
    "            y   = np.zeros_like(x)\n",
    "        else: y = 0                \n",
    "        y += f1(x) - f2(x)     \n",
    "        return y\n",
    "    return error_"
   ]
  },
  {
   "cell_type": "code",
   "execution_count": 6,
   "metadata": {
    "collapsed": true
   },
   "outputs": [],
   "source": [
    "def fmt(value,Ndecimals,headTail=(0,0)):    \n",
    "    if value == None: valString =''\n",
    "    else: valString = '{0:0.{Ndec}f}'.format(value,Ndec=Ndecimals)                  \n",
    "    head,tail = headTail\n",
    "    valString = ' '*head + valString + ' '*tail  \n",
    "    return valString\n",
    "\n",
    "def getWidth(value,Ndecimals=math.inf):\n",
    "    if value == None: width = 0\n",
    "    else:    \n",
    "        if Ndecimals == math.inf:\n",
    "            width = len(str(value))\n",
    "        elif Ndecimals==0 or Ndecimals==None:\n",
    "            width = len(str(int(value)))\n",
    "        else:\n",
    "            width = len(str(int(value))) + Ndecimals + 1\n",
    "    return width\n",
    "\n",
    "def fmtList(valueList,Ndecimals=2,totalWidth=0,widthLock=False):\n",
    "\n",
    "    maxWidth = max([getWidth(value,Ndecimals) for value in valueList])\n",
    "    dw = totalWidth - maxWidth\n",
    " \n",
    "    if dw%2 != 0 and widthLock==False:\n",
    "        totalWidth += 1\n",
    "        dw = dw + 1\n",
    "    tail = [dw//2 for value in valueList]\n",
    "    head = [totalWidth-getWidth(value,Ndecimals)-tail[0] for value in valueList]  \n",
    "    \n",
    "    stringList = [0 for value in valueList]\n",
    "    for i,value in enumerate(valueList):        \n",
    "        string = fmt(value,Ndecimals,headTail=(head[i],tail[i]))\n",
    "        stringList[i] = string\n",
    "    return stringList    "
   ]
  },
  {
   "cell_type": "code",
   "execution_count": 7,
   "metadata": {
    "collapsed": true
   },
   "outputs": [],
   "source": [
    "def makeTable(data,labels,Ndecimals=2):\n",
    "    Ncols = len(data)\n",
    "    Nrows = max([len(innerlist) for innerlist in data])\n",
    "    \n",
    "    for k,dataSet in enumerate(data):\n",
    "        if len(dataSet) < Nrows:\n",
    "            data[k] += [None]*(Nrows-len(dataSet))            \n",
    "    if len(labels) < Ncols:\n",
    "        labels += [None]*(Ncols-len(labels))\n",
    "        \n",
    "    dataStringList = [['']]*Ncols\n",
    "    labelStringList = ['']*Ncols\n",
    "    columnWidthList = [0]*Ncols\n",
    "\n",
    "    for k,column in enumerate(data):\n",
    "        maxDataWidth = max([getWidth(value,Ndecimals) for value in column])\n",
    "        columnWidthList[k] = max([len(labels[k]),maxDataWidth])\n",
    "        dataStringList[k] = fmtList(column,Ndecimals,\\\n",
    "                totalWidth=columnWidthList[k],widthLock=(len(labels[k])>maxDataWidth))\n",
    "        labelStringList[k] = '{:^{width}}'.format(labels[k],width=columnWidthList[k])\n",
    "\n",
    "    def labelRowString():    \n",
    "        return ''.join([\"  |  \"+string for string in labelStringList]) + '  |  '    \n",
    "    def hlineString(char='-',crossChar='|'):\n",
    "        return '  ' + crossChar + ''.join( \\\n",
    "                [char*(4+columnWidthList[k])+crossChar for k in range(0,Ncols)] )    \n",
    "    def dataRowString(i):\n",
    "        return ''.join([ '  |  '+row for row in \\\n",
    "                [column[i] for column in dataStringList] ]) + '  |'\n",
    "    def allDataString():\n",
    "        return ''.join([dataRowString(i)+'\\n' for i in range(0,Nrows-1)])\\\n",
    "                 + dataRowString(Nrows-1)       \n",
    "\n",
    "    return  (    hlineString(crossChar='.') + '\\n' \\\n",
    "            + labelRowString()              + '\\n' \\\n",
    "            +    hlineString(crossChar='|') + '\\n' \\\n",
    "            +  allDataString()              + '\\n' \\\n",
    "            +    hlineString(crossChar=\"'\")        )"
   ]
  },
  {
   "cell_type": "code",
   "execution_count": null,
   "metadata": {
    "collapsed": true
   },
   "outputs": [],
   "source": []
  },
  {
   "cell_type": "code",
   "execution_count": null,
   "metadata": {
    "collapsed": true
   },
   "outputs": [],
   "source": []
  }
 ],
 "metadata": {
  "kernelspec": {
   "display_name": "Python 3",
   "language": "python",
   "name": "python3"
  },
  "language_info": {
   "codemirror_mode": {
    "name": "ipython",
    "version": 3
   },
   "file_extension": ".py",
   "mimetype": "text/x-python",
   "name": "python",
   "nbconvert_exporter": "python",
   "pygments_lexer": "ipython3",
   "version": "3.6.3"
  }
 },
 "nbformat": 4,
 "nbformat_minor": 2
}
